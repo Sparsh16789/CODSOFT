{
 "cells": [
  {
   "cell_type": "code",
   "execution_count": null,
   "metadata": {
    "_cell_guid": "b1076dfc-b9ad-4769-8c92-a6c4dae69d19",
    "_uuid": "8f2839f25d086af736a60e9eeb907d3b93b6e0e5",
    "execution": {
     "iopub.execute_input": "2025-07-12T21:48:52.426519Z",
     "iopub.status.busy": "2025-07-12T21:48:52.426248Z",
     "iopub.status.idle": "2025-07-12T21:48:54.6609Z",
     "shell.execute_reply": "2025-07-12T21:48:54.659965Z",
     "shell.execute_reply.started": "2025-07-12T21:48:52.426486Z"
    },
    "trusted": true
   },
   "outputs": [],
   "source": [
    "\n",
    "\n",
    "import numpy as np\n",
    "import pandas as pd\n",
    "\n",
    "import os\n",
    "for dirname, _, filenames in os.walk('/kaggle/input'):\n",
    "    for filename in filenames:\n",
    "        print(os.path.join(dirname, filename))\n"
   ]
  },
  {
   "cell_type": "code",
   "execution_count": null,
   "metadata": {
    "execution": {
     "iopub.execute_input": "2025-07-12T21:48:54.662907Z",
     "iopub.status.busy": "2025-07-12T21:48:54.662395Z",
     "iopub.status.idle": "2025-07-12T21:48:57.466262Z",
     "shell.execute_reply": "2025-07-12T21:48:57.465382Z",
     "shell.execute_reply.started": "2025-07-12T21:48:54.662874Z"
    },
    "trusted": true
   },
   "outputs": [],
   "source": [
    "import numpy as np \n",
    "import pandas as pd\n",
    "import matplotlib.pyplot as plt \n",
    "import seaborn as sns\n",
    "import re  \n",
    "import string \n",
    "import nltk\n",
    "from nltk.corpus import stopwords \n",
    "from nltk.stem import LancasterStemmer \n",
    "from sklearn.preprocessing import OneHotEncoder\n",
    "from sklearn.feature_extraction.text import TfidfVectorizer \n",
    "from sklearn.model_selection import train_test_split \n",
    "from sklearn.naive_bayes import MultinomialNB\n",
    "from sklearn.metrics import accuracy_score \n",
    "import warnings \n",
    "warnings.filterwarnings(\"ignore\")"
   ]
  },
  {
   "cell_type": "code",
   "execution_count": null,
   "metadata": {
    "execution": {
     "iopub.execute_input": "2025-07-12T21:49:00.764859Z",
     "iopub.status.busy": "2025-07-12T21:49:00.764539Z",
     "iopub.status.idle": "2025-07-12T21:49:00.812367Z",
     "shell.execute_reply": "2025-07-12T21:49:00.81119Z",
     "shell.execute_reply.started": "2025-07-12T21:49:00.764835Z"
    },
    "trusted": true
   },
   "outputs": [],
   "source": [
    "df = pd.read_csv(\"/kaggle/input/sms-spam-collection-dataset/spam.csv\", encoding=\"latin-1\", usecols= [\"v1\", \"v2\"])"
   ]
  },
  {
   "cell_type": "code",
   "execution_count": null,
   "metadata": {
    "execution": {
     "iopub.execute_input": "2025-07-12T21:49:10.640512Z",
     "iopub.status.busy": "2025-07-12T21:49:10.640111Z",
     "iopub.status.idle": "2025-07-12T21:49:10.647Z",
     "shell.execute_reply": "2025-07-12T21:49:10.645153Z",
     "shell.execute_reply.started": "2025-07-12T21:49:10.640479Z"
    },
    "trusted": true
   },
   "outputs": [],
   "source": [
    "df.columns=[\"Type\", \"Message\"]"
   ]
  },
  {
   "cell_type": "code",
   "execution_count": null,
   "metadata": {
    "execution": {
     "iopub.execute_input": "2025-07-12T21:49:28.22109Z",
     "iopub.status.busy": "2025-07-12T21:49:28.220754Z",
     "iopub.status.idle": "2025-07-12T21:49:28.246869Z",
     "shell.execute_reply": "2025-07-12T21:49:28.245753Z",
     "shell.execute_reply.started": "2025-07-12T21:49:28.221059Z"
    },
    "trusted": true
   },
   "outputs": [],
   "source": [
    "df.describe()"
   ]
  },
  {
   "cell_type": "code",
   "execution_count": null,
   "metadata": {
    "execution": {
     "iopub.execute_input": "2025-07-12T21:49:35.36047Z",
     "iopub.status.busy": "2025-07-12T21:49:35.360082Z",
     "iopub.status.idle": "2025-07-12T21:49:35.37237Z",
     "shell.execute_reply": "2025-07-12T21:49:35.37128Z",
     "shell.execute_reply.started": "2025-07-12T21:49:35.360443Z"
    },
    "trusted": true
   },
   "outputs": [],
   "source": [
    "df.info()"
   ]
  },
  {
   "cell_type": "code",
   "execution_count": null,
   "metadata": {
    "execution": {
     "iopub.execute_input": "2025-07-12T21:49:53.559653Z",
     "iopub.status.busy": "2025-07-12T21:49:53.559187Z",
     "iopub.status.idle": "2025-07-12T21:49:53.571137Z",
     "shell.execute_reply": "2025-07-12T21:49:53.569827Z",
     "shell.execute_reply.started": "2025-07-12T21:49:53.559619Z"
    },
    "trusted": true
   },
   "outputs": [],
   "source": [
    "stop_words = set(stopwords.words('english'))\n",
    "stemmer = LancasterStemmer()"
   ]
  },
  {
   "cell_type": "code",
   "execution_count": null,
   "metadata": {
    "execution": {
     "iopub.execute_input": "2025-07-12T21:51:08.059566Z",
     "iopub.status.busy": "2025-07-12T21:51:08.059134Z",
     "iopub.status.idle": "2025-07-12T21:51:08.066817Z",
     "shell.execute_reply": "2025-07-12T21:51:08.065456Z",
     "shell.execute_reply.started": "2025-07-12T21:51:08.059533Z"
    },
    "trusted": true
   },
   "outputs": [],
   "source": [
    "def cleaning_data(text):\n",
    "    text = text.lower()  # lowercase\n",
    "    text = re.sub(r'@\\S+', '', text)  # remove mentions\n",
    "    text = re.sub(r'http\\S+', '', text)  # remove URLs\n",
    "    text = re.sub(r'.pic\\S+', '', text)  # remove media links\n",
    "    text = re.sub(r'[^a-zA-Z+]', ' ', text)  # keep only letters\n",
    "    text = \"\".join([i for i in text if i not in string.punctuation])  # remove punctuation\n",
    "    words = nltk.word_tokenize(text)  # tokenize\n",
    "    text = \" \".join([i for i in words if i not in stop_words and len(i) > 2])  # remove stopwords & short words\n",
    "    text = re.sub(r\"\\s+\", \" \", text).strip()  # remove extra spaces\n",
    "    return text"
   ]
  },
  {
   "cell_type": "code",
   "execution_count": null,
   "metadata": {
    "execution": {
     "iopub.execute_input": "2025-07-12T21:51:10.100204Z",
     "iopub.status.busy": "2025-07-12T21:51:10.099249Z",
     "iopub.status.idle": "2025-07-12T21:51:10.729785Z",
     "shell.execute_reply": "2025-07-12T21:51:10.728522Z",
     "shell.execute_reply.started": "2025-07-12T21:51:10.100165Z"
    },
    "trusted": true
   },
   "outputs": [],
   "source": [
    "df[\"CleanMessage\"] = df[\"Message\"].apply(cleaning_data)"
   ]
  },
  {
   "cell_type": "code",
   "execution_count": null,
   "metadata": {
    "execution": {
     "iopub.execute_input": "2025-07-12T21:51:18.489712Z",
     "iopub.status.busy": "2025-07-12T21:51:18.489298Z",
     "iopub.status.idle": "2025-07-12T21:51:18.596842Z",
     "shell.execute_reply": "2025-07-12T21:51:18.595874Z",
     "shell.execute_reply.started": "2025-07-12T21:51:18.489681Z"
    },
    "trusted": true
   },
   "outputs": [],
   "source": [
    "vectorizer = TfidfVectorizer()\n",
    "X = vectorizer.fit_transform(df[\"CleanMessage\"])"
   ]
  },
  {
   "cell_type": "code",
   "execution_count": null,
   "metadata": {
    "execution": {
     "iopub.execute_input": "2025-07-12T21:51:34.252327Z",
     "iopub.status.busy": "2025-07-12T21:51:34.251981Z",
     "iopub.status.idle": "2025-07-12T21:51:34.265083Z",
     "shell.execute_reply": "2025-07-12T21:51:34.264111Z",
     "shell.execute_reply.started": "2025-07-12T21:51:34.252305Z"
    },
    "trusted": true
   },
   "outputs": [],
   "source": [
    "encoder = OneHotEncoder(sparse=False, drop='first')\n",
    "Y = encoder.fit_transform(df[[\"Type\"]])"
   ]
  },
  {
   "cell_type": "code",
   "execution_count": null,
   "metadata": {
    "execution": {
     "iopub.execute_input": "2025-07-12T21:52:30.142199Z",
     "iopub.status.busy": "2025-07-12T21:52:30.141821Z",
     "iopub.status.idle": "2025-07-12T21:52:30.746656Z",
     "shell.execute_reply": "2025-07-12T21:52:30.745306Z",
     "shell.execute_reply.started": "2025-07-12T21:52:30.142176Z"
    },
    "trusted": true
   },
   "outputs": [],
   "source": [
    "df[\"Message_Length\"] = df[\"Message\"].apply(len)\n",
    "\n",
    "plt.figure(figsize=(8, 6))\n",
    "sns.histplot(data=df, x=\"Message_Length\", hue=\"Type\", bins=50, kde=True)\n",
    "plt.title(\"Distribution of Message Length by Type\")\n",
    "plt.show()"
   ]
  },
  {
   "cell_type": "code",
   "execution_count": null,
   "metadata": {
    "execution": {
     "iopub.execute_input": "2025-07-12T21:52:56.829279Z",
     "iopub.status.busy": "2025-07-12T21:52:56.828253Z",
     "iopub.status.idle": "2025-07-12T21:52:57.380855Z",
     "shell.execute_reply": "2025-07-12T21:52:57.379745Z",
     "shell.execute_reply.started": "2025-07-12T21:52:56.829247Z"
    },
    "trusted": true
   },
   "outputs": [],
   "source": [
    "from collections import Counter\n",
    "\n",
    "def top_n_words(messages, n=20):\n",
    "    words = \" \".join(messages).split()\n",
    "    return Counter(words).most_common(n)\n",
    "\n",
    "top_spam_words = top_n_words(df[df[\"Type\"] == \"spam\"][\"CleanMessage\"])\n",
    "top_ham_words = top_n_words(df[df[\"Type\"] == \"ham\"][\"CleanMessage\"])\n",
    "\n",
    "spam_df = pd.DataFrame(top_spam_words, columns=['Word', 'Freq'])\n",
    "ham_df = pd.DataFrame(top_ham_words, columns=['Word', 'Freq'])\n",
    "\n",
    "# Plot spam\n",
    "plt.figure(figsize=(10, 4))\n",
    "sns.barplot(data=spam_df, x='Freq', y='Word', color='red')\n",
    "plt.title(\"Top Words in Spam Messages\")\n",
    "plt.show()\n",
    "\n",
    "# Plot ham\n",
    "plt.figure(figsize=(10, 4))\n",
    "sns.barplot(data=ham_df, x='Freq', y='Word', color='green')\n",
    "plt.title(\"Top Words in Ham Messages\")\n",
    "plt.show()\n"
   ]
  },
  {
   "cell_type": "code",
   "execution_count": null,
   "metadata": {
    "execution": {
     "iopub.execute_input": "2025-07-12T21:56:30.093595Z",
     "iopub.status.busy": "2025-07-12T21:56:30.093197Z",
     "iopub.status.idle": "2025-07-12T21:56:30.223402Z",
     "shell.execute_reply": "2025-07-12T21:56:30.222285Z",
     "shell.execute_reply.started": "2025-07-12T21:56:30.093569Z"
    },
    "trusted": true
   },
   "outputs": [],
   "source": [
    "sns.countplot(x=\"Type\", data=df)"
   ]
  },
  {
   "cell_type": "code",
   "execution_count": null,
   "metadata": {
    "execution": {
     "iopub.execute_input": "2025-07-12T21:57:22.261404Z",
     "iopub.status.busy": "2025-07-12T21:57:22.261023Z",
     "iopub.status.idle": "2025-07-12T21:57:22.27028Z",
     "shell.execute_reply": "2025-07-12T21:57:22.269358Z",
     "shell.execute_reply.started": "2025-07-12T21:57:22.261376Z"
    },
    "trusted": true
   },
   "outputs": [],
   "source": [
    "X_train, X_test, Y_train, Y_test = train_test_split(X, Y, test_size=0.2, random_state=42)"
   ]
  },
  {
   "cell_type": "code",
   "execution_count": null,
   "metadata": {
    "execution": {
     "iopub.execute_input": "2025-07-12T21:57:30.462169Z",
     "iopub.status.busy": "2025-07-12T21:57:30.461304Z",
     "iopub.status.idle": "2025-07-12T21:57:30.535888Z",
     "shell.execute_reply": "2025-07-12T21:57:30.534891Z",
     "shell.execute_reply.started": "2025-07-12T21:57:30.46214Z"
    },
    "trusted": true
   },
   "outputs": [],
   "source": [
    "model = MultinomialNB()\n",
    "model.fit(X_train,Y_train)"
   ]
  },
  {
   "cell_type": "code",
   "execution_count": null,
   "metadata": {
    "execution": {
     "iopub.execute_input": "2025-07-12T21:57:42.486262Z",
     "iopub.status.busy": "2025-07-12T21:57:42.485231Z",
     "iopub.status.idle": "2025-07-12T21:57:42.494477Z",
     "shell.execute_reply": "2025-07-12T21:57:42.493545Z",
     "shell.execute_reply.started": "2025-07-12T21:57:42.486228Z"
    },
    "trusted": true
   },
   "outputs": [],
   "source": [
    "model.score(X_train,Y_train)"
   ]
  },
  {
   "cell_type": "code",
   "execution_count": null,
   "metadata": {
    "execution": {
     "iopub.execute_input": "2025-07-12T21:57:57.092894Z",
     "iopub.status.busy": "2025-07-12T21:57:57.092581Z",
     "iopub.status.idle": "2025-07-12T21:57:57.100941Z",
     "shell.execute_reply": "2025-07-12T21:57:57.099794Z",
     "shell.execute_reply.started": "2025-07-12T21:57:57.092873Z"
    },
    "trusted": true
   },
   "outputs": [],
   "source": [
    "y_pred = model.predict(X_test)\n",
    "accuracy = accuracy_score(Y_test, y_pred)"
   ]
  },
  {
   "cell_type": "code",
   "execution_count": null,
   "metadata": {
    "execution": {
     "iopub.execute_input": "2025-07-12T22:01:06.768106Z",
     "iopub.status.busy": "2025-07-12T22:01:06.76773Z",
     "iopub.status.idle": "2025-07-12T22:01:06.778648Z",
     "shell.execute_reply": "2025-07-12T22:01:06.777653Z",
     "shell.execute_reply.started": "2025-07-12T22:01:06.76808Z"
    },
    "trusted": true
   },
   "outputs": [],
   "source": [
    "emails = [\n",
    "    'Hey Mohamed, can we get together to watch football game tomorrow?',\n",
    "    \"URGENT: Your account will be locked. Verify your information immediately to avoid suspension!\",\n",
    "    \"Congratulations! You've been selected to win a $1000 gift card. Click the link to claim your reward now!\"\n",
    "]\n",
    "emails_count = vectorizer.transform(emails)\n",
    "model.predict(emails_count)"
   ]
  }
 ],
 "metadata": {
  "kaggle": {
   "accelerator": "none",
   "dataSources": [
    {
     "datasetId": 483,
     "sourceId": 982,
     "sourceType": "datasetVersion"
    }
   ],
   "dockerImageVersionId": 31089,
   "isGpuEnabled": false,
   "isInternetEnabled": false,
   "language": "python",
   "sourceType": "notebook"
  },
  "kernelspec": {
   "display_name": "Python 3",
   "language": "python",
   "name": "python3"
  },
  "language_info": {
   "codemirror_mode": {
    "name": "ipython",
    "version": 3
   },
   "file_extension": ".py",
   "mimetype": "text/x-python",
   "name": "python",
   "nbconvert_exporter": "python",
   "pygments_lexer": "ipython3",
   "version": "3.11.13"
  }
 },
 "nbformat": 4,
 "nbformat_minor": 4
}
