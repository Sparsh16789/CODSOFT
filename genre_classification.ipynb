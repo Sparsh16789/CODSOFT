{
 "cells": [
  {
   "cell_type": "code",
   "execution_count": null,
   "metadata": {
    "_cell_guid": "b1076dfc-b9ad-4769-8c92-a6c4dae69d19",
    "_uuid": "8f2839f25d086af736a60e9eeb907d3b93b6e0e5",
    "execution": {
     "iopub.execute_input": "2025-06-12T12:20:29.697188Z",
     "iopub.status.busy": "2025-06-12T12:20:29.696529Z",
     "iopub.status.idle": "2025-06-12T12:20:30.543889Z",
     "shell.execute_reply": "2025-06-12T12:20:30.543064Z",
     "shell.execute_reply.started": "2025-06-12T12:20:29.697142Z"
    },
    "trusted": true
   },
   "outputs": [],
   "source": [
    "#train-data import\n",
    "import pandas as pd\n",
    "\n",
    "train_data = pd.read_csv('/kaggle/input/genre-classification-dataset-imdb/Genre Classification Dataset/train_data.txt', sep=':::', names=['movie','genre', 'plot'])\n",
    "test_data = pd.read_csv('/kaggle/input/genre-classification-dataset-imdb/Genre Classification Dataset/test_data.txt', sep=':::', names=['movie','plot'])\n",
    "train_data.head()\n",
    "#test_data.head()"
   ]
  },
  {
   "cell_type": "code",
   "execution_count": null,
   "metadata": {
    "execution": {
     "iopub.execute_input": "2025-06-12T12:08:41.525622Z",
     "iopub.status.busy": "2025-06-12T12:08:41.525278Z",
     "iopub.status.idle": "2025-06-12T12:08:47.119637Z",
     "shell.execute_reply": "2025-06-12T12:08:47.11868Z",
     "shell.execute_reply.started": "2025-06-12T12:08:41.525593Z"
    },
    "trusted": true
   },
   "outputs": [],
   "source": [
    "#cleaning plot/summary data\n",
    "import re\n",
    "\n",
    "def clean_text(text):\n",
    "    text = text.lower()\n",
    "    # Remove special characters and punctuations\n",
    "    text = re.sub(r\"[^a-z0-9\\s]\", \"\", text)\n",
    "    # Remove extra spaces\n",
    "    text = re.sub(r\"\\s+\", \" \", text).strip()\n",
    "    return text\n",
    "\n",
    "train_data['clean_plot'] = train_data['plot'].apply(clean_text)\n",
    "train_data[['movie', 'genre', 'clean_plot']].head(10)  \n",
    "test_data['clean_plot'] = test_data['plot'].apply(clean_text)\n",
    "test_data[['movie', 'clean_plot']].head(10)  \n"
   ]
  },
  {
   "cell_type": "code",
   "execution_count": null,
   "metadata": {
    "execution": {
     "iopub.execute_input": "2025-06-12T12:13:02.450131Z",
     "iopub.status.busy": "2025-06-12T12:13:02.449824Z",
     "iopub.status.idle": "2025-06-12T12:13:10.046889Z",
     "shell.execute_reply": "2025-06-12T12:13:10.045856Z",
     "shell.execute_reply.started": "2025-06-12T12:13:02.450111Z"
    },
    "trusted": true
   },
   "outputs": [],
   "source": [
    "#label vectorization \n",
    "from sklearn.feature_extraction.text import TfidfVectorizer\n",
    "\n",
    "vectorizer = TfidfVectorizer(stop_words='english', max_features=5000)\n",
    "\n",
    "X_train = vectorizer.fit_transform(train_data['clean_plot'])\n",
    "X_test = vectorizer.transform(test_data['clean_plot'])\n"
   ]
  },
  {
   "cell_type": "code",
   "execution_count": null,
   "metadata": {
    "execution": {
     "iopub.execute_input": "2025-06-12T12:13:53.609345Z",
     "iopub.status.busy": "2025-06-12T12:13:53.608987Z",
     "iopub.status.idle": "2025-06-12T12:13:53.623418Z",
     "shell.execute_reply": "2025-06-12T12:13:53.622518Z",
     "shell.execute_reply.started": "2025-06-12T12:13:53.609296Z"
    },
    "trusted": true
   },
   "outputs": [],
   "source": [
    "#encoded genre lables\n",
    "from sklearn.preprocessing import LabelEncoder\n",
    "\n",
    "label_encoder = LabelEncoder()\n",
    "y_train = label_encoder.fit_transform(train_data['genre'])\n"
   ]
  },
  {
   "cell_type": "code",
   "execution_count": null,
   "metadata": {
    "execution": {
     "iopub.execute_input": "2025-06-12T12:26:06.357306Z",
     "iopub.status.busy": "2025-06-12T12:26:06.356254Z",
     "iopub.status.idle": "2025-06-12T12:26:37.947962Z",
     "shell.execute_reply": "2025-06-12T12:26:37.947043Z",
     "shell.execute_reply.started": "2025-06-12T12:26:06.357263Z"
    },
    "trusted": true
   },
   "outputs": [],
   "source": [
    "#model training\n",
    "from sklearn.linear_model import LogisticRegression\n",
    "\n",
    "model = LogisticRegression(class_weight='balanced', max_iter=1000)\n",
    "model.fit(X_train, y_train)\n",
    "\n"
   ]
  },
  {
   "cell_type": "code",
   "execution_count": null,
   "metadata": {
    "execution": {
     "iopub.execute_input": "2025-06-12T12:26:58.41995Z",
     "iopub.status.busy": "2025-06-12T12:26:58.419665Z",
     "iopub.status.idle": "2025-06-12T12:26:58.478319Z",
     "shell.execute_reply": "2025-06-12T12:26:58.477416Z",
     "shell.execute_reply.started": "2025-06-12T12:26:58.41993Z"
    },
    "trusted": true
   },
   "outputs": [],
   "source": [
    "#prediction on test_data\n",
    "y_pred = model.predict(X_test)\n",
    "predicted_genres = label_encoder.inverse_transform(y_pred)\n",
    "test_data['predicted_genre'] = predicted_genres\n",
    "\n"
   ]
  },
  {
   "cell_type": "code",
   "execution_count": null,
   "metadata": {
    "execution": {
     "iopub.execute_input": "2025-06-12T12:27:00.70065Z",
     "iopub.status.busy": "2025-06-12T12:27:00.699963Z",
     "iopub.status.idle": "2025-06-12T12:27:00.714274Z",
     "shell.execute_reply": "2025-06-12T12:27:00.713227Z",
     "shell.execute_reply.started": "2025-06-12T12:27:00.70062Z"
    },
    "trusted": true
   },
   "outputs": [],
   "source": [
    "test_data[['movie','plot','predicted_genre']].head()\n"
   ]
  },
  {
   "cell_type": "code",
   "execution_count": null,
   "metadata": {
    "execution": {
     "iopub.execute_input": "2025-06-12T12:28:48.617126Z",
     "iopub.status.busy": "2025-06-12T12:28:48.616245Z",
     "iopub.status.idle": "2025-06-12T12:28:49.878432Z",
     "shell.execute_reply": "2025-06-12T12:28:49.877389Z",
     "shell.execute_reply.started": "2025-06-12T12:28:48.617091Z"
    },
    "trusted": true
   },
   "outputs": [],
   "source": [
    "#train_data['genre'].value_counts()\n",
    "test_data[['movie', 'plot', 'predicted_genre']].to_csv('predicted_genres.csv', index=False)\n"
   ]
  },
  {
   "cell_type": "code",
   "execution_count": null,
   "metadata": {
    "execution": {
     "iopub.execute_input": "2025-06-12T12:33:02.029679Z",
     "iopub.status.busy": "2025-06-12T12:33:02.028923Z",
     "iopub.status.idle": "2025-06-12T12:33:27.307659Z",
     "shell.execute_reply": "2025-06-12T12:33:27.305869Z",
     "shell.execute_reply.started": "2025-06-12T12:33:02.029648Z"
    },
    "trusted": true
   },
   "outputs": [],
   "source": [
    "#testing accuracy on train_data by splitting\n",
    "from sklearn.model_selection import train_test_split\n",
    "from sklearn.metrics import accuracy_score, classification_report\n",
    "\n",
    "# Split the training data\n",
    "X_train_split, X_val_split, y_train_split, y_val_split = train_test_split(\n",
    "    X_train, y_train, test_size=0.2, random_state=42, stratify=y_train\n",
    ")\n",
    "\n",
    "# Train on 80%\n",
    "model.fit(X_train_split, y_train_split)\n",
    "\n",
    "# Predict on 20% validation set\n",
    "y_val_pred = model.predict(X_val_split)\n",
    "\n",
    "# Accuracy and report\n",
    "acc = accuracy_score(y_val_split, y_val_pred)\n",
    "print(f\"Validation Accuracy: {acc:.2f}\")\n",
    "\n",
    "print(\"\\nClassification Report:\")\n",
    "print(classification_report(y_val_split, y_val_pred, target_names=label_encoder.classes_))\n"
   ]
  }
 ],
 "metadata": {
  "kaggle": {
   "accelerator": "none",
   "dataSources": [
    {
     "datasetId": 1417162,
     "sourceId": 2347441,
     "sourceType": "datasetVersion"
    }
   ],
   "dockerImageVersionId": 31040,
   "isGpuEnabled": false,
   "isInternetEnabled": false,
   "language": "python",
   "sourceType": "notebook"
  },
  "kernelspec": {
   "display_name": "Python 3",
   "language": "python",
   "name": "python3"
  },
  "language_info": {
   "codemirror_mode": {
    "name": "ipython",
    "version": 3
   },
   "file_extension": ".py",
   "mimetype": "text/x-python",
   "name": "python",
   "nbconvert_exporter": "python",
   "pygments_lexer": "ipython3",
   "version": "3.12.2"
  }
 },
 "nbformat": 4,
 "nbformat_minor": 4
}
