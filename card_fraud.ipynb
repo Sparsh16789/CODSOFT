{
 "cells": [
  {
   "cell_type": "markdown",
   "metadata": {},
   "source": [
    "# "
   ]
  },
  {
   "cell_type": "code",
   "execution_count": null,
   "metadata": {
    "_cell_guid": "b1076dfc-b9ad-4769-8c92-a6c4dae69d19",
    "_uuid": "8f2839f25d086af736a60e9eeb907d3b93b6e0e5",
    "execution": {
     "iopub.execute_input": "2025-06-27T20:59:38.228813Z",
     "iopub.status.busy": "2025-06-27T20:59:38.228487Z",
     "iopub.status.idle": "2025-06-27T20:59:40.565919Z",
     "shell.execute_reply": "2025-06-27T20:59:40.564718Z",
     "shell.execute_reply.started": "2025-06-27T20:59:38.228788Z"
    },
    "trusted": true
   },
   "outputs": [],
   "source": [
    "import pandas as pd\n",
    "import numpy as np\n",
    "import matplotlib.pyplot as plt\n",
    "import seaborn as sns\n",
    "from sklearn.model_selection import train_test_split\n",
    "from sklearn.preprocessing import StandardScaler, LabelEncoder\n",
    "from sklearn.ensemble import RandomForestClassifier\n",
    "from sklearn.metrics import classification_report, confusion_matrix, accuracy_score\n",
    "from imblearn.over_sampling import SMOTE  "
   ]
  },
  {
   "cell_type": "code",
   "execution_count": null,
   "metadata": {
    "execution": {
     "iopub.execute_input": "2025-06-27T21:00:05.63266Z",
     "iopub.status.busy": "2025-06-27T21:00:05.63203Z",
     "iopub.status.idle": "2025-06-27T21:00:25.391774Z",
     "shell.execute_reply": "2025-06-27T21:00:25.390599Z",
     "shell.execute_reply.started": "2025-06-27T21:00:05.632622Z"
    },
    "trusted": true
   },
   "outputs": [],
   "source": [
    "train_data = pd.read_csv('/kaggle/input/fraud-detection/fraudTrain.csv') \n",
    "\n",
    "test_data = pd.read_csv('/kaggle/input/fraud-detection/fraudTest.csv')"
   ]
  },
  {
   "cell_type": "code",
   "execution_count": null,
   "metadata": {
    "execution": {
     "iopub.execute_input": "2025-06-23T13:32:58.397424Z",
     "iopub.status.busy": "2025-06-23T13:32:58.397138Z",
     "iopub.status.idle": "2025-06-23T13:33:04.008241Z",
     "shell.execute_reply": "2025-06-23T13:33:04.007057Z",
     "shell.execute_reply.started": "2025-06-23T13:32:58.397399Z"
    },
    "trusted": true
   },
   "outputs": [],
   "source": [
    "# Drop unnecessary columns (only include columns that exist in the dataset)\n",
    "columns_to_drop = ['Unnamed: 0', 'trans_num', 'unix_time', 'first', 'last', 'long', 'lat']\n",
    "train_data.drop(columns=columns_to_drop, axis=1, inplace=True, errors='ignore')\n",
    "test_data.drop(columns=columns_to_drop, axis=1, inplace=True, errors='ignore')\n",
    "\n",
    "# Define features (X) and target (y) for the training dataset\n",
    "X_train = train_data.drop('is_fraud', axis=1)  # Features (all columns except 'is_fraud')\n",
    "y_train = train_data['is_fraud']  # Target variable ('is_fraud')\n",
    "\n",
    "# Define features (X) and target (y) for the testing dataset\n",
    "X_test = test_data.drop('is_fraud', axis=1)  # Features (all columns except 'is_fraud')\n",
    "y_test = test_data['is_fraud']  # Target variable ('is_fraud')\n",
    "\n",
    "# Dynamically identify categorical and numerical columns\n",
    "categorical_cols = X_train.select_dtypes(include=['object']).columns.tolist()\n",
    "numerical_cols = X_train.select_dtypes(include=[np.number]).columns.tolist()\n",
    "\n",
    "# Convert 'trans_date_trans_time' to datetime and extract features\n",
    "if 'trans_date_trans_time' in X_train.columns:\n",
    "    # Convert 'trans_date_trans_time' to datetime format\n",
    "    X_train['trans_date_trans_time'] = pd.to_datetime(X_train['trans_date_trans_time'])\n",
    "    X_test['trans_date_trans_time'] = pd.to_datetime(X_test['trans_date_trans_time'])\n",
    "\n",
    "    # Extract useful features from 'trans_date_trans_time'\n",
    "    X_train['hour'] = X_train['trans_date_trans_time'].dt.hour\n",
    "    X_train['day'] = X_train['trans_date_trans_time'].dt.day\n",
    "    X_train['month'] = X_train['trans_date_trans_time'].dt.month\n",
    "    X_train['day_of_week'] = X_train['trans_date_trans_time'].dt.dayofweek\n",
    "\n",
    "    X_test['hour'] = X_test['trans_date_trans_time'].dt.hour\n",
    "    X_test['day'] = X_test['trans_date_trans_time'].dt.day\n",
    "    X_test['month'] = X_test['trans_date_trans_time'].dt.month\n",
    "    X_test['day_of_week'] = X_test['trans_date_trans_time'].dt.dayofweek\n",
    "\n",
    "    # Drop the original 'trans_date_trans_time' column\n",
    "    X_train.drop('trans_date_trans_time', axis=1, inplace=True, errors='ignore')\n",
    "    X_test.drop('trans_date_trans_time', axis=1, inplace=True, errors='ignore')\n",
    "\n",
    "    # Update categorical and numerical columns after preprocessing\n",
    "    categorical_cols = X_train.select_dtypes(include=['object']).columns.tolist()\n",
    "    numerical_cols = X_train.select_dtypes(include=[np.number]).columns.tolist()\n",
    "\n",
    "# Encode categorical variables using LabelEncoder\n",
    "label_encoder = LabelEncoder()\n",
    "for col in categorical_cols:\n",
    "    # Fit LabelEncoder on the union of train and test data to avoid unseen labels\n",
    "    combined = pd.concat([X_train[col], X_test[col]])\n",
    "    label_encoder.fit(combined)\n",
    "\n",
    "    # Transform both train and test data\n",
    "    X_train[col] = label_encoder.transform(X_train[col])\n",
    "    X_test[col] = label_encoder.transform(X_test[col])\n",
    "\n",
    "# Scale numerical features using StandardScaler\n",
    "scaler = StandardScaler()\n",
    "X_train[numerical_cols] = scaler.fit_transform(X_train[numerical_cols])\n",
    "X_test[numerical_cols] = scaler.transform(X_test[numerical_cols])  # Use transform (not fit_transform) for test data\n",
    "\n",
    "# Ensure X_train and X_test have the same columns\n",
    "X_train, X_test = X_train.align(X_test, join='inner', axis=1)\n",
    "\n",
    "# Print the final set of columns to verify\n",
    "print(\"Final set of columns in X_train and X_test:\")\n",
    "print(X_train.columns)"
   ]
  },
  {
   "cell_type": "code",
   "execution_count": null,
   "metadata": {
    "execution": {
     "iopub.execute_input": "2025-06-23T14:23:21.326035Z",
     "iopub.status.busy": "2025-06-23T14:23:21.32563Z",
     "iopub.status.idle": "2025-06-23T14:24:57.480098Z",
     "shell.execute_reply": "2025-06-23T14:24:57.479124Z",
     "shell.execute_reply.started": "2025-06-23T14:23:21.325997Z"
    },
    "trusted": true
   },
   "outputs": [],
   "source": [
    "# Initialize the Random Forest Classifier with optimized parameters\n",
    "model = RandomForestClassifier(\n",
    "    n_estimators=50,       # Reduce the number of trees\n",
    "    n_jobs=-1,             # Use all available CPU cores\n",
    "    random_state=42\n",
    ")\n",
    "\n",
    "# Train the model on the training data\n",
    "model.fit(X_train, y_train)\n",
    "\n",
    "# Make predictions on the test data\n",
    "y_pred = model.predict(X_test)\n",
    "\n",
    "# Confusion matrix\n",
    "conf_matrix = confusion_matrix(y_test, y_pred)\n",
    "plt.figure(figsize=(6, 4))\n",
    "sns.heatmap(conf_matrix, annot=True, fmt='d', cmap='Blues')\n",
    "plt.title('Confusion Matrix')\n",
    "plt.xlabel('Predicted')\n",
    "plt.ylabel('Actual')\n",
    "plt.show()\n",
    "\n",
    "# Accuracy score\n",
    "accuracy = accuracy_score(y_test, y_pred)\n",
    "print('Accuracy Score:',accuracy_score(y_test, y_pred)*100)\n",
    "\n",
    "# Classification report\n",
    "print(\"\\nClassification Report:\")\n",
    "print(classification_report(y_test, y_pred))\n"
   ]
  },
  {
   "cell_type": "code",
   "execution_count": null,
   "metadata": {
    "execution": {
     "iopub.execute_input": "2025-06-23T14:43:34.671361Z",
     "iopub.status.busy": "2025-06-23T14:43:34.670962Z",
     "iopub.status.idle": "2025-06-23T14:44:05.765949Z",
     "shell.execute_reply": "2025-06-23T14:44:05.764727Z",
     "shell.execute_reply.started": "2025-06-23T14:43:34.671328Z"
    },
    "trusted": true
   },
   "outputs": [],
   "source": [
    "from xgboost import XGBClassifier\n",
    "\n",
    "XGB = XGBClassifier(n_estimators = 300, max_depth = 30, learning_rate = 0.005)\n",
    "XGB.fit(X_train,y_train)\n",
    "XGB_preds = XGB.predict(X_test)\n",
    "\n",
    "# Confusion matrix\n",
    "conf_matrix = confusion_matrix(y_test, XGB_preds)\n",
    "plt.figure(figsize=(6, 4))\n",
    "sns.heatmap(conf_matrix, annot=True, fmt='d', cmap='YlGnBu')\n",
    "plt.title('Confusion Matrix')\n",
    "plt.xlabel('Predicted')\n",
    "plt.ylabel('Actual')\n",
    "plt.show()\n",
    "\n",
    "# Accuracy score\n",
    "accuracy = accuracy_score(y_test , XGB_preds)\n",
    "\n",
    "print('Classification Report:\\n',classification_report(y_test , XGB_preds))\n",
    "print('Accuracy Score:',accuracy_score(y_test, XGB_preds)*100)"
   ]
  }
 ],
 "metadata": {
  "kaggle": {
   "accelerator": "none",
   "dataSources": [
    {
     "datasetId": 817870,
     "sourceId": 1399887,
     "sourceType": "datasetVersion"
    }
   ],
   "dockerImageVersionId": 30918,
   "isGpuEnabled": false,
   "isInternetEnabled": false,
   "language": "python",
   "sourceType": "notebook"
  },
  "kernelspec": {
   "display_name": "Python 3",
   "language": "python",
   "name": "python3"
  },
  "language_info": {
   "codemirror_mode": {
    "name": "ipython",
    "version": 3
   },
   "file_extension": ".py",
   "mimetype": "text/x-python",
   "name": "python",
   "nbconvert_exporter": "python",
   "pygments_lexer": "ipython3",
   "version": "3.10.12"
  }
 },
 "nbformat": 4,
 "nbformat_minor": 4
}
